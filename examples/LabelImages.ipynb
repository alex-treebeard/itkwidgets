{
 "cells": [
  {
   "cell_type": "code",
   "execution_count": null,
   "metadata": {},
   "outputs": [],
   "source": [
    "# Install dependencies for this example\n",
    "# Note: This does not include itkwidgets, itself\n",
    "import sys\n",
    "!{sys.executable} -m pip install -U itk scikit-image"
   ]
  },
  {
   "cell_type": "code",
   "execution_count": null,
   "metadata": {},
   "outputs": [],
   "source": [
    "from urllib.request import urlretrieve\n",
    "import os\n",
    "\n",
    "import itk\n",
    "import numpy as np\n",
    "import skimage.io, skimage.filters, skimage.measure\n",
    "\n",
    "from itkwidgets import view\n",
    "import itkwidgets"
   ]
  },
  {
   "cell_type": "code",
   "execution_count": null,
   "metadata": {},
   "outputs": [],
   "source": [
    "# Download data\n",
    "# Source: https://data.broadinstitute.org/bbbc/BBBC024/\n",
    "file_name = 'HL50_cell_line_c00_03_extraction.tif'\n",
    "if not os.path.exists(file_name):\n",
    "    url = 'https://data.kitware.com/api/v1/file/5b61f16c8d777f06857c1949/download'\n",
    "    urlretrieve(url, file_name)"
   ]
  },
  {
   "cell_type": "code",
   "execution_count": null,
   "metadata": {},
   "outputs": [],
   "source": [
    "image = itk.imread(file_name)\n",
    "\n",
    "view(image, cmap=itkwidgets.cm.BrBG, annotations=False, vmax=800, ui_collapsed=True)"
   ]
  },
  {
   "cell_type": "code",
   "execution_count": null,
   "metadata": {},
   "outputs": [],
   "source": [
    "# Segment the cells\n",
    "smoothed = itk.smoothing_recursive_gaussian_image_filter(image)\n",
    "\n",
    "thresholded = itk.moments_threshold_image_filter(smoothed,\n",
    "                                                 inside_value=0,\n",
    "                                                 outside_value=1)\n",
    "\n",
    "connected_components = itk.connected_component_image_filter(thresholded)"
   ]
  },
  {
   "cell_type": "code",
   "execution_count": null,
   "metadata": {},
   "outputs": [],
   "source": [
    "view(label_image=connected_components)"
   ]
  },
  {
   "cell_type": "code",
   "execution_count": null,
   "metadata": {
    "scrolled": true
   },
   "outputs": [],
   "source": [
    "# We can combine the label map with the intensity image, add names for the labels, etc.\n",
    "names = [(0, 'Background'), (1, 'First cell'), (2, 'Second cell')]\n",
    "viewer = view(smoothed,\n",
    "              label_image=connected_components,\n",
    "              label_image_names=names,\n",
    "              label_image_blend=0.8,\n",
    "              rotate=True,\n",
    "              gradient_opacity=0.5,\n",
    "              slicing_planes=True)\n",
    "viewer"
   ]
  },
  {
   "cell_type": "markdown",
   "metadata": {},
   "source": [
    "Clicking on a label in a slice will toggle its weight.\n",
    "We can also set label weights programmically."
   ]
  },
  {
   "cell_type": "code",
   "execution_count": null,
   "metadata": {},
   "outputs": [],
   "source": [
    "label_count = len(np.unique(connected_components))\n",
    "label_weights = np.ones((label_count,), dtype=np.float32)\n",
    "label_weights[1] = 0.1\n",
    "label_weights[2] = 0.2\n",
    "viewer.label_image_weights = label_weights"
   ]
  },
  {
   "cell_type": "markdown",
   "metadata": {},
   "source": [
    "The images and labels can, of course, also come from *scikit-image*."
   ]
  },
  {
   "cell_type": "code",
   "execution_count": null,
   "metadata": {},
   "outputs": [],
   "source": [
    "image = skimage.io.imread(file_name)\n",
    "\n",
    "view(image, cmap=itkwidgets.cm.BrBG, annotations=False, vmax=800, ui_collapsed=True)"
   ]
  },
  {
   "cell_type": "code",
   "execution_count": null,
   "metadata": {},
   "outputs": [],
   "source": [
    "# Segment the cells\n",
    "smoothed = skimage.filters.gaussian(image)\n",
    "\n",
    "threshold = skimage.filters.threshold_isodata(smoothed)\n",
    "thresholded = smoothed > threshold\n",
    "\n",
    "connected_components = skimage.measure.label(thresholded)"
   ]
  },
  {
   "cell_type": "code",
   "execution_count": null,
   "metadata": {},
   "outputs": [],
   "source": [
    "view(label_image=connected_components)"
   ]
  }
 ],
 "metadata": {
  "kernelspec": {
   "display_name": "Python 3",
   "language": "python",
   "name": "python3"
  },
  "language_info": {
   "codemirror_mode": {
    "name": "ipython",
    "version": 3
   },
   "file_extension": ".py",
   "mimetype": "text/x-python",
   "name": "python",
   "nbconvert_exporter": "python",
   "pygments_lexer": "ipython3",
   "version": "3.7.6"
  }
 },
 "nbformat": 4,
 "nbformat_minor": 4
}
